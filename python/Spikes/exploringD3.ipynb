{
 "metadata": {
  "name": "",
  "signature": "sha256:77a7d1c4e43b36a4d0397b2e562798ea7dbfa005990ac88ee4447bc194ac3ddc"
 },
 "nbformat": 3,
 "nbformat_minor": 0,
 "worksheets": [
  {
   "cells": [
    {
     "cell_type": "code",
     "collapsed": false,
     "input": [
      "import sys\n",
      "sys.path.append(\"../Tools/\")\n",
      "import d3tools.jswrapper"
     ],
     "language": "python",
     "metadata": {},
     "outputs": [],
     "prompt_number": 24
    },
    {
     "cell_type": "code",
     "collapsed": false,
     "input": [
      "d3tools.jswrapper.JSDataView(\"../Tools/d3tools/testviz.js\", \"/files/Tools/d3tools/testdata.json\")"
     ],
     "language": "python",
     "metadata": {},
     "outputs": [
      {
       "html": [
        "<div id=\"I2QEJSQQUCDZ\" style=\"height: 300px; width:95%;\"></div>"
       ],
       "metadata": {},
       "output_type": "display_data"
      },
      {
       "javascript": [
        "\n",
        "require([\"//cdnjs.cloudflare.com/ajax/libs/d3/3.2.2/d3.v3.min.js\"], function() {\n",
        "\n",
        "    $.getJSON(\"/files/Tools/d3tools/testdata.json\", function(dataset) {\n",
        "\n",
        "        //Width and height\n",
        "        var w = 750;\n",
        "        var h = 250;\n",
        "\n",
        "        //Initialize a default force layout, using the nodes and edges in dataset\n",
        "        var force = d3.layout.force()\n",
        "            .nodes(dataset.nodes)\n",
        "            .links(dataset.edges)\n",
        "            .size([w, h])\n",
        "            .linkDistance([50])\n",
        "            .charge([-100])\n",
        "            .start();\n",
        "\n",
        "        var colors = d3.scale.category10();\n",
        "\n",
        "        //Create SVG element\n",
        "        var svg = d3.select(I2QEJSQQUCDZ)\n",
        "            .append(\"svg\")\n",
        "            .attr(\"align\", \"center\")\n",
        "            .attr(\"width\", w)\n",
        "            .attr(\"height\", h);\n",
        "\n",
        "        //Create edges as lines\n",
        "        var edges = svg.selectAll(\"line\")\n",
        "            .data(dataset.edges)\n",
        "            .enter()\n",
        "            .append(\"line\")\n",
        "            .style(\"stroke\", \"#ccc\")\n",
        "            .style(\"stroke-width\", 1);\n",
        "\n",
        "        //Create nodes as circles\n",
        "        var nodes = svg.selectAll(\"circle\")\n",
        "            .data(dataset.nodes)\n",
        "            .enter()\n",
        "            .append(\"circle\")\n",
        "            .attr(\"r\", 10)\n",
        "            .style(\"fill\", function(d, i) {\n",
        "                return colors(i);\n",
        "            })\n",
        "            .call(force.drag);\n",
        "\n",
        "        //Every time the simulation \"ticks\", this will be called\n",
        "        force.on(\"tick\", function() {\n",
        "\n",
        "            edges.attr(\"x1\", function(d) { return d.source.x; })\n",
        "                .attr(\"y1\", function(d) { return d.source.y; })\n",
        "                .attr(\"x2\", function(d) { return d.target.x; })\n",
        "                .attr(\"y2\", function(d) { return d.target.y; });\n",
        "\n",
        "            nodes.attr(\"cx\", function(d) { return d.x; })\n",
        "                .attr(\"cy\", function(d) { return d.y; });\n",
        "\n",
        "        });\n",
        "    });\n",
        "});"
       ],
       "metadata": {},
       "output_type": "display_data"
      }
     ],
     "prompt_number": 27
    },
    {
     "cell_type": "code",
     "collapsed": false,
     "input": [
      "d3tools.jswrapper.JSFileView(\"../Tools/d3tools/testviz2.js\", 100)"
     ],
     "language": "python",
     "metadata": {},
     "outputs": [
      {
       "html": [
        "<div id=\"NV6UEPT4S6GZ\" style=\"height: 100px; width:95%;\"></div>"
       ],
       "metadata": {},
       "output_type": "display_data"
      },
      {
       "javascript": [
        "\n",
        "require([\"//cdnjs.cloudflare.com/ajax/libs/d3/3.2.2/d3.v3.min.js\"], function() {\n",
        "\n",
        "    var sampleSVG = d3.select(NV6UEPT4S6GZ)\n",
        "        .append(\"svg\")\n",
        "        .attr(\"width\", 100)\n",
        "        .attr(\"height\", 100);\n",
        "\n",
        "    sampleSVG.append(\"circle\")\n",
        "        .style(\"stroke\", \"gray\")\n",
        "        .style(\"fill\", \"white\")\n",
        "        .attr(\"r\", 40)\n",
        "        .attr(\"cx\", 50)\n",
        "        .attr(\"cy\", 50)\n",
        "        .on(\"mouseover\", function(){d3.select(this).style(\"fill\", \"aliceblue\");})\n",
        "        .on(\"mouseout\", function(){d3.select(this).style(\"fill\", \"white\");});\n",
        "});"
       ],
       "metadata": {},
       "output_type": "display_data"
      }
     ],
     "prompt_number": 33
    }
   ],
   "metadata": {}
  }
 ]
}
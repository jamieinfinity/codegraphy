{
 "metadata": {
  "name": "",
  "signature": "sha256:6c52f4947ffb82c263bd2bdc304b05af58626c98a21c7e63b559693b7214358e"
 },
 "nbformat": 3,
 "nbformat_minor": 0,
 "worksheets": [
  {
   "cells": [
    {
     "cell_type": "code",
     "collapsed": false,
     "input": [
      "from ast import *\n",
      "import codegen"
     ],
     "language": "python",
     "metadata": {},
     "outputs": [],
     "prompt_number": 60
    },
    {
     "cell_type": "code",
     "collapsed": false,
     "input": [
      "\"\"\"\n",
      "A pretty-printing dump function for the ast module.  The code was copied from\n",
      "the ast.dump function and modified slightly to pretty-print.\n",
      "\n",
      "Alex Leone (acleone ~AT~ gmail.com), 2010-01-30\n",
      "\n",
      "From http://alexleone.blogspot.co.uk/2010/01/python-ast-pretty-printer.html\n",
      "\"\"\"\n",
      "\n",
      "def dump(node, annotate_fields=True, include_attributes=False, indent='  '):\n",
      "    \"\"\"\n",
      "    Return a formatted dump of the tree in *node*.  This is mainly useful for\n",
      "    debugging purposes.  The returned string will show the names and the values\n",
      "    for fields.  This makes the code impossible to evaluate, so if evaluation is\n",
      "    wanted *annotate_fields* must be set to False.  Attributes such as line\n",
      "    numbers and column offsets are not dumped by default.  If this is wanted,\n",
      "    *include_attributes* can be set to True.\n",
      "    \"\"\"\n",
      "    def _format(node, level=0):\n",
      "        if isinstance(node, AST):\n",
      "            fields = [(a, _format(b, level)) for a, b in iter_fields(node)]\n",
      "            if include_attributes and node._attributes:\n",
      "                fields.extend([(a, _format(getattr(node, a), level))\n",
      "                               for a in node._attributes])\n",
      "            return ''.join([\n",
      "                node.__class__.__name__,\n",
      "                '(',\n",
      "                ', '.join(('%s=%s' % field for field in fields)\n",
      "                           if annotate_fields else\n",
      "                           (b for a, b in fields)),\n",
      "                ')'])\n",
      "        elif isinstance(node, list):\n",
      "            lines = ['[']\n",
      "            lines.extend((indent * (level + 2) + _format(x, level + 2) + ','\n",
      "                         for x in node))\n",
      "            if len(lines) > 1:\n",
      "                lines.append(indent * (level + 1) + ']')\n",
      "            else:\n",
      "                lines[-1] += ']'\n",
      "            return '\\n'.join(lines)\n",
      "        return repr(node)\n",
      "    \n",
      "    if not isinstance(node, AST):\n",
      "        raise TypeError('expected AST, got %r' % node.__class__.__name__)\n",
      "    return _format(node)\n",
      "\n",
      "def parseprint(code, filename=\"<string>\", mode=\"exec\", **kwargs):\n",
      "    \"\"\"Parse some code from a string and pretty-print it.\"\"\"\n",
      "    node = parse(code, mode=mode)   # An ode to the code\n",
      "    print(dump(node, **kwargs))"
     ],
     "language": "python",
     "metadata": {},
     "outputs": [],
     "prompt_number": 61
    },
    {
     "cell_type": "code",
     "collapsed": false,
     "input": [
      "parseprint(\"\"\"a+1\"\"\")"
     ],
     "language": "python",
     "metadata": {},
     "outputs": [
      {
       "output_type": "stream",
       "stream": "stdout",
       "text": [
        "Module(body=[\n",
        "    Expr(value=BinOp(left=Name(id='a', ctx=Load()), op=Add(), right=Num(n=1))),\n",
        "  ])\n"
       ]
      }
     ],
     "prompt_number": 62
    },
    {
     "cell_type": "code",
     "collapsed": false,
     "input": [
      "tree=ast.parse(\"\"\"\n",
      "for i in range(0,10):\n",
      "    print i\"\"\")\n",
      "tree"
     ],
     "language": "python",
     "metadata": {},
     "outputs": [
      {
       "metadata": {},
       "output_type": "pyout",
       "prompt_number": 45,
       "text": [
        "<_ast.Module at 0x1035a6210>"
       ]
      }
     ],
     "prompt_number": 45
    },
    {
     "cell_type": "code",
     "collapsed": false,
     "input": [
      "exec(compile(tree, filename=\"<ast>\", mode=\"exec\"))"
     ],
     "language": "python",
     "metadata": {},
     "outputs": [
      {
       "output_type": "stream",
       "stream": "stdout",
       "text": [
        "0\n",
        "1\n",
        "2\n",
        "3\n",
        "4\n",
        "5\n",
        "6\n",
        "7\n",
        "8\n",
        "9\n"
       ]
      }
     ],
     "prompt_number": 46
    },
    {
     "cell_type": "code",
     "collapsed": false,
     "input": [
      "dir(tree)"
     ],
     "language": "python",
     "metadata": {},
     "outputs": [
      {
       "metadata": {},
       "output_type": "pyout",
       "prompt_number": 47,
       "text": [
        "['__class__',\n",
        " '__delattr__',\n",
        " '__dict__',\n",
        " '__doc__',\n",
        " '__format__',\n",
        " '__getattribute__',\n",
        " '__hash__',\n",
        " '__init__',\n",
        " '__module__',\n",
        " '__new__',\n",
        " '__reduce__',\n",
        " '__reduce_ex__',\n",
        " '__repr__',\n",
        " '__setattr__',\n",
        " '__sizeof__',\n",
        " '__str__',\n",
        " '__subclasshook__',\n",
        " '__weakref__',\n",
        " '_attributes',\n",
        " '_fields',\n",
        " 'body']"
       ]
      }
     ],
     "prompt_number": 47
    },
    {
     "cell_type": "code",
     "collapsed": false,
     "input": [
      "print(dump(tree))"
     ],
     "language": "python",
     "metadata": {},
     "outputs": [
      {
       "output_type": "stream",
       "stream": "stdout",
       "text": [
        "Module(body=[\n",
        "    For(target=Name(id='i', ctx=Store()), iter=Call(func=Name(id='range', ctx=Load()), args=[\n",
        "        Num(n=0),\n",
        "        Num(n=10),\n",
        "      ], keywords=[], starargs=None, kwargs=None), body=[\n",
        "        Print(dest=None, values=[\n",
        "            Name(id='i', ctx=Load()),\n",
        "          ], nl=True),\n",
        "      ], orelse=[]),\n",
        "  ])\n"
       ]
      }
     ],
     "prompt_number": 64
    },
    {
     "cell_type": "code",
     "collapsed": false,
     "input": [
      "this=tree.body\n",
      "this"
     ],
     "language": "python",
     "metadata": {},
     "outputs": [
      {
       "metadata": {},
       "output_type": "pyout",
       "prompt_number": 48,
       "text": [
        "[<_ast.For at 0x1035a6290>]"
       ]
      }
     ],
     "prompt_number": 48
    },
    {
     "cell_type": "code",
     "collapsed": false,
     "input": [
      "this[0].__class__"
     ],
     "language": "python",
     "metadata": {},
     "outputs": [
      {
       "metadata": {},
       "output_type": "pyout",
       "prompt_number": 49,
       "text": [
        "_ast.For"
       ]
      }
     ],
     "prompt_number": 49
    },
    {
     "cell_type": "code",
     "collapsed": false,
     "input": [
      "this[0]._fields"
     ],
     "language": "python",
     "metadata": {},
     "outputs": [
      {
       "metadata": {},
       "output_type": "pyout",
       "prompt_number": 42,
       "text": [
        "('value',)"
       ]
      }
     ],
     "prompt_number": 42
    },
    {
     "cell_type": "code",
     "collapsed": false,
     "input": [
      "class testVisitor(ast.NodeVisitor):\n",
      "    def generic_visit(self, node):\n",
      "        print type(node).__name__\n",
      "        ast.NodeVisitor.generic_visit(self, node)"
     ],
     "language": "python",
     "metadata": {},
     "outputs": [],
     "prompt_number": 4
    },
    {
     "cell_type": "code",
     "collapsed": false,
     "input": [
      "class testVisitor(ast.NodeVisitor):\n",
      "    def generic_visit(self, node):\n",
      "        out_string = 'n%s [label=\"%s\"];\\n' % (id(node), r\"%s\\n\" % type(node).__name__)\n",
      "        print out_string\n",
      "        ast.NodeVisitor.generic_visit(self, node)"
     ],
     "language": "python",
     "metadata": {},
     "outputs": [],
     "prompt_number": 10
    },
    {
     "cell_type": "code",
     "collapsed": false,
     "input": [
      "class testVisitor(ast.NodeVisitor):\n",
      "    def generic_visit(self, node):\n",
      "        print type(node)\n",
      "        ast.NodeVisitor.generic_visit(self, node)"
     ],
     "language": "python",
     "metadata": {},
     "outputs": [],
     "prompt_number": 53
    },
    {
     "cell_type": "code",
     "collapsed": false,
     "input": [
      "myvisitor=testVisitor()"
     ],
     "language": "python",
     "metadata": {},
     "outputs": [],
     "prompt_number": 54
    },
    {
     "cell_type": "code",
     "collapsed": false,
     "input": [
      "myvisitor.visit(tree)"
     ],
     "language": "python",
     "metadata": {},
     "outputs": [
      {
       "output_type": "stream",
       "stream": "stdout",
       "text": [
        "<class '_ast.Module'>\n",
        "<class '_ast.For'>\n",
        "<class '_ast.Name'>\n",
        "<class '_ast.Store'>\n",
        "<class '_ast.Call'>\n",
        "<class '_ast.Name'>\n",
        "<class '_ast.Load'>\n",
        "<class '_ast.Num'>\n",
        "<class '_ast.Num'>\n",
        "<class '_ast.Print'>\n",
        "<class '_ast.Name'>\n",
        "<class '_ast.Load'>\n"
       ]
      }
     ],
     "prompt_number": 55
    },
    {
     "cell_type": "code",
     "collapsed": false,
     "input": [],
     "language": "python",
     "metadata": {},
     "outputs": []
    }
   ],
   "metadata": {}
  }
 ]
}